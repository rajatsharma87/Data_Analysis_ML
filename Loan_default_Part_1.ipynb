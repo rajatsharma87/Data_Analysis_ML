{
 "cells": [
  {
   "cell_type": "code",
   "execution_count": null,
   "id": "cf663765",
   "metadata": {},
   "outputs": [],
   "source": [
    "import pandas as pd\n",
    "import matplotlib.pyplot as plt\n",
    "import numpy as np\n",
    "import seaborn as sns"
   ]
  },
  {
   "cell_type": "code",
   "execution_count": null,
   "id": "ccc257a2",
   "metadata": {},
   "outputs": [],
   "source": [
    "# Load the files int he data Frame\n",
    "loan_df = pd.read_csv('../data/vehicle_loans.csv', index_col='UNIQUEID')"
   ]
  },
  {
   "cell_type": "code",
   "execution_count": null,
   "id": "3f8bf329",
   "metadata": {},
   "outputs": [],
   "source": [
    "#Check the Data Frame\n",
    "loan_df.head()"
   ]
  },
  {
   "cell_type": "code",
   "execution_count": null,
   "id": "bffe6460",
   "metadata": {},
   "outputs": [],
   "source": [
    "#Check the number of rows and columns \n",
    "loan_df.shape"
   ]
  },
  {
   "cell_type": "code",
   "execution_count": null,
   "id": "5540eaa8",
   "metadata": {},
   "outputs": [],
   "source": [
    "print(\"Number of rows: \", loan_df.shape[0])\n",
    "print(\"Number of columns: \", loan_df.shape[1])"
   ]
  },
  {
   "cell_type": "code",
   "execution_count": null,
   "id": "ff61b2bf",
   "metadata": {},
   "outputs": [],
   "source": [
    "# check the count of non-null values and the data types of each column\n",
    "\n",
    "loan_df.info()"
   ]
  },
  {
   "cell_type": "code",
   "execution_count": null,
   "id": "99bdb80d",
   "metadata": {},
   "outputs": [],
   "source": [
    "# Convert the below field to datetime format\n",
    "\n",
    "loan_df['DISBURSAL_DATE'] = pd.to_datetime(loan_df['DISBURSAL_DATE'])"
   ]
  },
  {
   "cell_type": "code",
   "execution_count": null,
   "id": "80140300",
   "metadata": {},
   "outputs": [],
   "source": [
    "# Check the Max and min of the data to get an idea of the date range for whcih we have data\n",
    "\n",
    "print(\"Maximum Disbursal Date: \", loan_df['DISBURSAL_DATE'].max())\n",
    "print(\"Minium Disbursal Date: \", loan_df['DISBURSAL_DATE'].min())"
   ]
  },
  {
   "cell_type": "code",
   "execution_count": null,
   "id": "0cd909b9",
   "metadata": {},
   "outputs": [],
   "source": [
    "# how many days of data we have\n",
    "print(\"Timespan of Data Set: \", loan_df['DISBURSAL_DATE'].max() - loan_df['DISBURSAL_DATE'].min())"
   ]
  },
  {
   "cell_type": "code",
   "execution_count": null,
   "id": "2745ecec",
   "metadata": {},
   "outputs": [],
   "source": [
    "#Get some idea about the target variable\n",
    "\n",
    "loan_df['LOAN_DEFAULT'].value_counts()"
   ]
  },
  {
   "cell_type": "code",
   "execution_count": null,
   "id": "d90c5f40",
   "metadata": {},
   "outputs": [],
   "source": [
    "# % distribution of the target variebles\n",
    "\n",
    "loan_df['LOAN_DEFAULT'].value_counts(normalize=True)"
   ]
  },
  {
   "cell_type": "code",
   "execution_count": null,
   "id": "330da044",
   "metadata": {},
   "outputs": [],
   "source": [
    "#Visualize our target variable using the countplot function from seaborn\n",
    "\n",
    "sns.countplot(x=\"LOAN_DEFAULT\", data=loan_df)\n",
    "plt.show()"
   ]
  },
  {
   "cell_type": "code",
   "execution_count": null,
   "id": "67b671df",
   "metadata": {},
   "outputs": [],
   "source": [
    "# Find missing values\n",
    "\n",
    "loan_df.isnull()"
   ]
  },
  {
   "cell_type": "code",
   "execution_count": null,
   "id": "44fb6fbc",
   "metadata": {},
   "outputs": [],
   "source": [
    "# Get more information on missing values\n",
    "\n",
    "loan_df.isnull().any()"
   ]
  },
  {
   "cell_type": "code",
   "execution_count": null,
   "id": "665688e5",
   "metadata": {},
   "outputs": [],
   "source": [
    "loan_df.isnull().sum()"
   ]
  },
  {
   "cell_type": "code",
   "execution_count": 1,
   "id": "142ea389",
   "metadata": {},
   "outputs": [
    {
     "ename": "NameError",
     "evalue": "name 'loan_df' is not defined",
     "output_type": "error",
     "traceback": [
      "\u001b[1;31m---------------------------------------------------------------------------\u001b[0m",
      "\u001b[1;31mNameError\u001b[0m                                 Traceback (most recent call last)",
      "Input \u001b[1;32mIn [1]\u001b[0m, in \u001b[0;36m<cell line: 1>\u001b[1;34m()\u001b[0m\n\u001b[1;32m----> 1\u001b[0m \u001b[38;5;28mprint\u001b[39m(\u001b[43mloan_df\u001b[49m[\u001b[38;5;124m'\u001b[39m\u001b[38;5;124mEMPLOYMENT_TYPE\u001b[39m\u001b[38;5;124m'\u001b[39m]\u001b[38;5;241m.\u001b[39mvalue_counts())\n\u001b[0;32m      2\u001b[0m sns\u001b[38;5;241m.\u001b[39mcountplot(x\u001b[38;5;241m=\u001b[39m\u001b[38;5;124m\"\u001b[39m\u001b[38;5;124mEMPLOYMENT_TYPE\u001b[39m\u001b[38;5;124m\"\u001b[39m, data\u001b[38;5;241m=\u001b[39mloan_df)\n\u001b[0;32m      3\u001b[0m plt\u001b[38;5;241m.\u001b[39mshow()\n",
      "\u001b[1;31mNameError\u001b[0m: name 'loan_df' is not defined"
     ]
    }
   ],
   "source": [
    "#visualize EMPLOYMENT_TYPE counts\n",
    "\n",
    "print(loan_df['EMPLOYMENT_TYPE'].value_counts())\n",
    "sns.countplot(x=\"EMPLOYMENT_TYPE\", data=loan_df)\n",
    "plt.show()"
   ]
  },
  {
   "cell_type": "code",
   "execution_count": null,
   "id": "19d54fd1",
   "metadata": {},
   "outputs": [],
   "source": [
    "# Taking care of the missing values and adding a place holder\n",
    "\n",
    "loan_df = loan_df.fillna(value={'EMPLOYMENT_TYPE' : 'Missing'})"
   ]
  },
  {
   "cell_type": "code",
   "execution_count": null,
   "id": "038de053",
   "metadata": {},
   "outputs": [],
   "source": [
    "#visualize EMPLOYMENT_TYPE counts again after adding the missing value\n",
    "\n",
    "print(loan_df['EMPLOYMENT_TYPE'].value_counts())\n",
    "sns.countplot(x=\"EMPLOYMENT_TYPE\", data=loan_df)\n",
    "plt.show()"
   ]
  },
  {
   "cell_type": "code",
   "execution_count": null,
   "id": "af5acea4",
   "metadata": {},
   "outputs": [],
   "source": [
    "# below 2 columns can be used to infer a more Alorithm friendly format\n",
    "\n",
    "loan_df[['DISBURSAL_DATE', 'DATE_OF_BIRTH']].sample(10)"
   ]
  },
  {
   "cell_type": "code",
   "execution_count": 2,
   "id": "6ec06502",
   "metadata": {},
   "outputs": [
    {
     "ename": "NameError",
     "evalue": "name 'pd' is not defined",
     "output_type": "error",
     "traceback": [
      "\u001b[1;31m---------------------------------------------------------------------------\u001b[0m",
      "\u001b[1;31mNameError\u001b[0m                                 Traceback (most recent call last)",
      "Input \u001b[1;32mIn [2]\u001b[0m, in \u001b[0;36m<cell line: 3>\u001b[1;34m()\u001b[0m\n\u001b[0;32m      1\u001b[0m \u001b[38;5;66;03m# Conver the 2 columns to data time format\u001b[39;00m\n\u001b[1;32m----> 3\u001b[0m loan_df[\u001b[38;5;124m'\u001b[39m\u001b[38;5;124mDATE_OF_BIRTH\u001b[39m\u001b[38;5;124m'\u001b[39m] \u001b[38;5;241m=\u001b[39m \u001b[43mpd\u001b[49m\u001b[38;5;241m.\u001b[39mto_datetime(loan_df[\u001b[38;5;124m'\u001b[39m\u001b[38;5;124mDATE_OF_BIRTH\u001b[39m\u001b[38;5;124m'\u001b[39m])\n\u001b[0;32m      4\u001b[0m loan_df[\u001b[38;5;124m'\u001b[39m\u001b[38;5;124mDISBURSAL_DATE\u001b[39m\u001b[38;5;124m'\u001b[39m] \u001b[38;5;241m=\u001b[39m pd\u001b[38;5;241m.\u001b[39mto_datetime(loan_df[\u001b[38;5;124m'\u001b[39m\u001b[38;5;124mDISBURSAL_DATE\u001b[39m\u001b[38;5;124m'\u001b[39m])\n\u001b[0;32m      6\u001b[0m \u001b[38;5;66;03m# create a new column and use above 2 col.s to get the age of the person at the time of loan disbursement\u001b[39;00m\n",
      "\u001b[1;31mNameError\u001b[0m: name 'pd' is not defined"
     ]
    }
   ],
   "source": [
    "# Conver the 2 columns to data time format\n",
    "\n",
    "loan_df['DATE_OF_BIRTH'] = pd.to_datetime(loan_df['DATE_OF_BIRTH'])\n",
    "loan_df['DISBURSAL_DATE'] = pd.to_datetime(loan_df['DISBURSAL_DATE'])\n",
    "\n",
    "# create a new column and use above 2 col.s to get the age of the person at the time of loan disbursement\n",
    "\n",
    "loan_df['AGE'] = loan_df['DISBURSAL_DATE'] - loan_df['DATE_OF_BIRTH']\n",
    "loan_df['AGE'] = loan_df['AGE'] // np.timedelta64(1, 'Y')  # this will convert the age from Days to Years\n",
    "\n",
    "#Inspect the results\n",
    "print(loan_df[['DATE_OF_BIRTH', 'AGE', 'DISBURSAL_DATE']].sample(n=5))\n"
   ]
  },
  {
   "cell_type": "code",
   "execution_count": null,
   "id": "1bf62a6c",
   "metadata": {},
   "outputs": [],
   "source": [
    "# Make sure that DATE_OF_BIRTH and DISBURSAL_DATE are datetimes\n",
    "\n",
    "loan_df['DATE_OF_BIRTH'] = pd.to_datetime(loan_df['DATE_OF_BIRTH'])\n",
    "loan_df['DISBURSAL_DATE'] = pd.to_datetime(loan_df['DISBURSAL_DATE'])\n",
    "\n",
    "print(\"DATE_OF_BIRTH variable type: \", loan_df['DATE_OF_BIRTH'].dtypes)\n",
    "print(\"DISBURSAL_DATE variable type: \", loan_df['DISBURSAL_DATE'].dtypes)\n",
    "\n"
   ]
  },
  {
   "cell_type": "markdown",
   "id": "1d8eb6ab",
   "metadata": {},
   "source": [
    "- At this point, we do not know how the disbursal date might be related to loan defaults\n",
    "- We want to explore this relationship so need to convert to a numeric representation\n",
    "- We will convert it to the disbursal month and remove that column"
   ]
  },
  {
   "cell_type": "code",
   "execution_count": 3,
   "id": "05b8f585",
   "metadata": {
    "scrolled": true
   },
   "outputs": [
    {
     "ename": "NameError",
     "evalue": "name 'loan_df' is not defined",
     "output_type": "error",
     "traceback": [
      "\u001b[1;31m---------------------------------------------------------------------------\u001b[0m",
      "\u001b[1;31mNameError\u001b[0m                                 Traceback (most recent call last)",
      "Input \u001b[1;32mIn [3]\u001b[0m, in \u001b[0;36m<cell line: 1>\u001b[1;34m()\u001b[0m\n\u001b[1;32m----> 1\u001b[0m loan_df[\u001b[38;5;124m'\u001b[39m\u001b[38;5;124mDISBURSAL_MONTH\u001b[39m\u001b[38;5;124m'\u001b[39m] \u001b[38;5;241m=\u001b[39m \u001b[43mloan_df\u001b[49m[\u001b[38;5;124m'\u001b[39m\u001b[38;5;124mDISBURSAL_DATE\u001b[39m\u001b[38;5;124m'\u001b[39m]\u001b[38;5;241m.\u001b[39mdt\u001b[38;5;241m.\u001b[39mmonth\n\u001b[0;32m      2\u001b[0m loan_df[\u001b[38;5;124m'\u001b[39m\u001b[38;5;124mDISBURSAL_MONTH\u001b[39m\u001b[38;5;124m'\u001b[39m]\u001b[38;5;241m.\u001b[39mvalue_counts()\n",
      "\u001b[1;31mNameError\u001b[0m: name 'loan_df' is not defined"
     ]
    }
   ],
   "source": [
    "loan_df['DISBURSAL_MONTH'] = loan_df['DISBURSAL_DATE'].dt.month\n",
    "loan_df['DISBURSAL_MONTH'].value_counts()"
   ]
  },
  {
   "cell_type": "code",
   "execution_count": null,
   "id": "a73bb0f5",
   "metadata": {},
   "outputs": [],
   "source": [
    "loan_df = loan_df.drop(['DISBURSAL_DATE', 'DATE_OF_BIRTH'], axis=1)"
   ]
  },
  {
   "cell_type": "markdown",
   "id": "1096eae6",
   "metadata": {},
   "source": [
    "String Manipulation\n",
    "The current format of AVERAGE_ACCT_AGE and CREDIT_HISTORY_LENGTH is not useful\n",
    "\n",
    "\n",
    "create a new column 'AVERAGE_ACCT_AGE_MONTHS' to store the average account age as an integer of months\n",
    "n"
   ]
  },
  {
   "cell_type": "code",
   "execution_count": null,
   "id": "c421582b",
   "metadata": {},
   "outputs": [],
   "source": [
    "def calc_months(str_list):  \n",
    "    years = int(str_list[0])\n",
    "    months = int(str_list[1])\n",
    "\n",
    "    num_months = (years * 12) + months\n",
    "    return num_months"
   ]
  },
  {
   "cell_type": "code",
   "execution_count": 4,
   "id": "88a61876",
   "metadata": {},
   "outputs": [
    {
     "ename": "NameError",
     "evalue": "name 'loan_df' is not defined",
     "output_type": "error",
     "traceback": [
      "\u001b[1;31m---------------------------------------------------------------------------\u001b[0m",
      "\u001b[1;31mNameError\u001b[0m                                 Traceback (most recent call last)",
      "Input \u001b[1;32mIn [4]\u001b[0m, in \u001b[0;36m<cell line: 1>\u001b[1;34m()\u001b[0m\n\u001b[1;32m----> 1\u001b[0m loan_df[\u001b[38;5;124m'\u001b[39m\u001b[38;5;124mAVERAGE_ACCT_AGE_MONTHS\u001b[39m\u001b[38;5;124m'\u001b[39m] \u001b[38;5;241m=\u001b[39m \u001b[43mloan_df\u001b[49m[\u001b[38;5;124m'\u001b[39m\u001b[38;5;124mAVERAGE_ACCT_AGE\u001b[39m\u001b[38;5;124m'\u001b[39m]\u001b[38;5;241m.\u001b[39mstr\u001b[38;5;241m.\u001b[39mfindall(\u001b[38;5;124m'\u001b[39m\u001b[38;5;124m\\\u001b[39m\u001b[38;5;124md+\u001b[39m\u001b[38;5;124m'\u001b[39m)\n\u001b[0;32m      2\u001b[0m \u001b[38;5;28mprint\u001b[39m(loan_df[\u001b[38;5;124m'\u001b[39m\u001b[38;5;124mAVERAGE_ACCT_AGE_MONTHS\u001b[39m\u001b[38;5;124m'\u001b[39m]\u001b[38;5;241m.\u001b[39msample(n\u001b[38;5;241m=\u001b[39m\u001b[38;5;241m10\u001b[39m))\n",
      "\u001b[1;31mNameError\u001b[0m: name 'loan_df' is not defined"
     ]
    }
   ],
   "source": [
    "loan_df['AVERAGE_ACCT_AGE_MONTHS'] = loan_df['AVERAGE_ACCT_AGE'].str.findall('\\d+')\n",
    "print(loan_df['AVERAGE_ACCT_AGE_MONTHS'].sample(n=10))"
   ]
  },
  {
   "cell_type": "code",
   "execution_count": null,
   "id": "07318670",
   "metadata": {},
   "outputs": [],
   "source": [
    "# Use the map to apply function created above\n",
    "\n",
    "loan_df['AVERAGE_ACCT_AGE_MONTHS'] = loan_df['AVERAGE_ACCT_AGE_MONTHS'].map(calc_months)"
   ]
  },
  {
   "cell_type": "code",
   "execution_count": null,
   "id": "77071e18",
   "metadata": {},
   "outputs": [],
   "source": [
    "print(loan_df[['AVERAGE_ACCT_AGE_MONTHS', 'AVERAGE_ACCT_AGE']].sample(n=10))"
   ]
  },
  {
   "cell_type": "code",
   "execution_count": null,
   "id": "ab053797",
   "metadata": {},
   "outputs": [],
   "source": [
    "#created a function to deal with above steps and make it simple\n",
    "\n",
    "def convert_str_to_months(col_name):\n",
    "    new_col = col_name + '_MONTHS'\n",
    "    loan_df[new_col] = loan_df[col_name].str.findall('\\d+')\n",
    "    loan_df[new_col] = loan_df[new_col].map(calc_months)\n",
    "\n"
   ]
  },
  {
   "cell_type": "code",
   "execution_count": null,
   "id": "7ca14d42",
   "metadata": {},
   "outputs": [],
   "source": [
    "convert_str_to_months('CREDIT_HISTORY_LENGTH')\n",
    "loan_df[['CREDIT_HISTORY_LENGTH_MONTHS', 'CREDIT_HISTORY_LENGTH']].sample(n=5)"
   ]
  },
  {
   "cell_type": "code",
   "execution_count": null,
   "id": "f2891fdf",
   "metadata": {},
   "outputs": [],
   "source": [
    "# Lets drop the columns for which we have already created a new col.\n",
    "\n",
    "loan_df = loan_df.drop(['AVERAGE_ACCT_AGE', 'CREDIT_HISTORY_LENGTH'], axis=1)"
   ]
  },
  {
   "cell_type": "markdown",
   "id": "f99b6fba",
   "metadata": {},
   "source": [
    "Write the data frame to the file"
   ]
  },
  {
   "cell_type": "code",
   "execution_count": null,
   "id": "4326a862",
   "metadata": {},
   "outputs": [],
   "source": [
    "loan_df.to_csv('../data/vehicle_loans_clean.csv')"
   ]
  }
 ],
 "metadata": {
  "kernelspec": {
   "display_name": "Python 3 (ipykernel)",
   "language": "python",
   "name": "python3"
  },
  "language_info": {
   "codemirror_mode": {
    "name": "ipython",
    "version": 3
   },
   "file_extension": ".py",
   "mimetype": "text/x-python",
   "name": "python",
   "nbconvert_exporter": "python",
   "pygments_lexer": "ipython3",
   "version": "3.9.12"
  }
 },
 "nbformat": 4,
 "nbformat_minor": 5
}
